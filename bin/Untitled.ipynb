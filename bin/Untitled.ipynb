{
 "cells": [
  {
   "cell_type": "code",
   "execution_count": 48,
   "metadata": {},
   "outputs": [],
   "source": [
    "x = [ \n",
    "         [1, 2, 0],\n",
    "         [0, 3, 1],\n",
    "         [0, 2, 2] \n",
    "      ]"
   ]
  },
  {
   "cell_type": "code",
   "execution_count": 51,
   "metadata": {},
   "outputs": [
    {
     "name": "stdout",
     "output_type": "stream",
     "text": [
      "coo_format_x = 56\n",
      "csr_format_x = 56\n",
      "csc_format_x = 56\n"
     ]
    },
    {
     "data": {
      "text/plain": [
       "<3x3 sparse matrix of type '<class 'numpy.int64'>'\n",
       "\twith 6 stored elements in Compressed Sparse Column format>"
      ]
     },
     "execution_count": 51,
     "metadata": {},
     "output_type": "execute_result"
    }
   ],
   "source": [
    "import sys\n",
    "y = np.ones(9)\n",
    "row = np.arange(4)\n",
    "mtcoo = sparse.coo_matrix(x)\n",
    "mtcsr = sparse.csr_matrix(x)\n",
    "mtcsc = sparse.csc_matrix(x)\n",
    "print(\"coo_format_x = {}\".format(sys.getsizeof(mtcoo)))\n",
    "print(\"csr_format_x = {}\".format(sys.getsizeof(mtcsr)))\n",
    "print(\"csc_format_x = {}\".format(sys.getsizeof(mtcsc)))\n",
    "mtcsc"
   ]
  }
 ],
 "metadata": {
  "kernelspec": {
   "display_name": "Python 3",
   "language": "python",
   "name": "python3"
  },
  "language_info": {
   "codemirror_mode": {
    "name": "ipython",
    "version": 3
   },
   "file_extension": ".py",
   "mimetype": "text/x-python",
   "name": "python",
   "nbconvert_exporter": "python",
   "pygments_lexer": "ipython3",
   "version": "3.7.0"
  }
 },
 "nbformat": 4,
 "nbformat_minor": 2
}
