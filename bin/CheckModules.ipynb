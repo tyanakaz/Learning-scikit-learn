{
 "cells": [
  {
   "cell_type": "code",
   "execution_count": 2,
   "metadata": {},
   "outputs": [
    {
     "name": "stdout",
     "output_type": "stream",
     "text": [
      "Python version: 3.7.0 (default, Jun 28 2018, 13:15:42) \n",
      "[GCC 7.2.0]\n",
      "Numpy version: 1.15.1\n",
      "Pandas version: 0.23.4\n",
      "Matplotlib path: <module 'matplotlib.pyplot' from '/opt/conda/lib/python3.7/site-packages/matplotlib/pyplot.py'>\n",
      "Scipy Path: <module 'scipy.sparse' from '/opt/conda/lib/python3.7/site-packages/scipy/sparse/__init__.py'>\n",
      "sklearn vesion: 0.19.2\n"
     ]
    }
   ],
   "source": [
    "import sys\n",
    "\n",
    "print(\"Python version: {}\".format(sys.version))\n",
    "print(\"Numpy version: {}\".format(np.__version__))\n",
    "print(\"Pandas version: {}\".format(pd.__version__))\n",
    "print(\"Matplotlib path: {}\".format(plt))\n",
    "print(\"Scipy Path: {}\".format(sparse))\n",
    "print(\"sklearn vesion: {}\".format(sl.__version__))"
   ]
  },
  {
   "cell_type": "code",
   "execution_count": null,
   "metadata": {},
   "outputs": [],
   "source": []
  }
 ],
 "metadata": {
  "kernelspec": {
   "display_name": "Python 3",
   "language": "python",
   "name": "python3"
  },
  "language_info": {
   "codemirror_mode": {
    "name": "ipython",
    "version": 3
   },
   "file_extension": ".py",
   "mimetype": "text/x-python",
   "name": "python",
   "nbconvert_exporter": "python",
   "pygments_lexer": "ipython3",
   "version": "3.7.0"
  }
 },
 "nbformat": 4,
 "nbformat_minor": 2
}
