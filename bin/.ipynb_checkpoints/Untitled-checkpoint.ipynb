{
 "cells": [
  {
   "cell_type": "code",
   "execution_count": 44,
   "metadata": {},
   "outputs": [],
   "source": [
    "x = [ \n",
    "         [1, 2, 0],\n",
    "         [0, 3, 0],\n",
    "         [0, 0, 4] \n",
    "      ]"
   ]
  },
  {
   "cell_type": "code",
   "execution_count": 41,
   "metadata": {},
   "outputs": [
    {
     "ename": "SyntaxError",
     "evalue": "invalid syntax (<ipython-input-41-611e492556e5>, line 8)",
     "output_type": "error",
     "traceback": [
      "\u001b[0;36m  File \u001b[0;32m\"<ipython-input-41-611e492556e5>\"\u001b[0;36m, line \u001b[0;32m8\u001b[0m\n\u001b[0;31m    print(\"csr_format_x = {}\".format(sys.getsizeof(mtcsr)))\u001b[0m\n\u001b[0m        ^\u001b[0m\n\u001b[0;31mSyntaxError\u001b[0m\u001b[0;31m:\u001b[0m invalid syntax\n"
     ]
    }
   ],
   "source": [
    "import sys\n",
    "y = np.ones(9)\n",
    "row = np.arange(4)\n",
    "mtcoo = sparse.coo_matrix(x)\n",
    "mtcsr = sparse.csr_matrix(x)\n",
    "mtcsc = sparse.csc_matrix(x)\n",
    "print(\"coo_format_x = {}\".format(sys.getsizeof(mtcoo)))\n",
    "print(\"csr_format_x = {}\".format(sys.getsizeof(mtcsr)))\n",
    "print(\"csc_format_x = {}\".format(sys.getsizeof(mtcsc)))\n",
    "mtcsc"
   ]
  }
 ],
 "metadata": {
  "kernelspec": {
   "display_name": "Python 3",
   "language": "python",
   "name": "python3"
  },
  "language_info": {
   "codemirror_mode": {
    "name": "ipython",
    "version": 3
   },
   "file_extension": ".py",
   "mimetype": "text/x-python",
   "name": "python",
   "nbconvert_exporter": "python",
   "pygments_lexer": "ipython3",
   "version": "3.7.0"
  }
 },
 "nbformat": 4,
 "nbformat_minor": 2
}
